{
 "cells": [
  {
   "cell_type": "code",
   "execution_count": 15,
   "metadata": {},
   "outputs": [],
   "source": [
    "import pandas as pd\n",
    "import sys"
   ]
  },
  {
   "cell_type": "code",
   "execution_count": 59,
   "metadata": {},
   "outputs": [
    {
     "data": {
      "text/html": [
       "<div>\n",
       "<style scoped>\n",
       "    .dataframe tbody tr th:only-of-type {\n",
       "        vertical-align: middle;\n",
       "    }\n",
       "\n",
       "    .dataframe tbody tr th {\n",
       "        vertical-align: top;\n",
       "    }\n",
       "\n",
       "    .dataframe thead th {\n",
       "        text-align: right;\n",
       "    }\n",
       "</style>\n",
       "<table border=\"1\" class=\"dataframe\">\n",
       "  <thead>\n",
       "    <tr style=\"text-align: right;\">\n",
       "      <th></th>\n",
       "      <th>As-Of-Date</th>\n",
       "      <th>Symbol</th>\n",
       "      <th>Name</th>\n",
       "      <th>% of Assets</th>\n",
       "      <th>Market Value</th>\n",
       "    </tr>\n",
       "  </thead>\n",
       "  <tbody>\n",
       "    <tr>\n",
       "      <th>0</th>\n",
       "      <td>2020-12-31</td>\n",
       "      <td>AAPL</td>\n",
       "      <td>APPLE INC COMMON STOCK USD.00001</td>\n",
       "      <td>5.421952</td>\n",
       "      <td>7.519257e+08</td>\n",
       "    </tr>\n",
       "    <tr>\n",
       "      <th>1</th>\n",
       "      <td>2020-12-31</td>\n",
       "      <td>MSFT</td>\n",
       "      <td>MICROSOFT CORP COMMON STOCK USD.00000625</td>\n",
       "      <td>4.299386</td>\n",
       "      <td>5.962464e+08</td>\n",
       "    </tr>\n",
       "    <tr>\n",
       "      <th>2</th>\n",
       "      <td>2020-12-31</td>\n",
       "      <td>AMZN</td>\n",
       "      <td>AMAZON.COM INC COMMON STOCK USD.01</td>\n",
       "      <td>3.551460</td>\n",
       "      <td>4.925227e+08</td>\n",
       "    </tr>\n",
       "    <tr>\n",
       "      <th>3</th>\n",
       "      <td>2020-12-31</td>\n",
       "      <td>FB</td>\n",
       "      <td>FACEBOOK INC CLASS A COMMON STOCK USD.000006</td>\n",
       "      <td>1.678802</td>\n",
       "      <td>2.328192e+08</td>\n",
       "    </tr>\n",
       "    <tr>\n",
       "      <th>4</th>\n",
       "      <td>2020-12-31</td>\n",
       "      <td>TSLA</td>\n",
       "      <td>TESLA INC COMMON STOCK USD.001</td>\n",
       "      <td>1.368412</td>\n",
       "      <td>1.897737e+08</td>\n",
       "    </tr>\n",
       "    <tr>\n",
       "      <th>...</th>\n",
       "      <td>...</td>\n",
       "      <td>...</td>\n",
       "      <td>...</td>\n",
       "      <td>...</td>\n",
       "      <td>...</td>\n",
       "    </tr>\n",
       "    <tr>\n",
       "      <th>3225</th>\n",
       "      <td>2020-12-31</td>\n",
       "      <td>NaN</td>\n",
       "      <td>CONTRA RESTORBIO INC COMMON STOCK</td>\n",
       "      <td>0.000000</td>\n",
       "      <td>0.000000e+00</td>\n",
       "    </tr>\n",
       "    <tr>\n",
       "      <th>3226</th>\n",
       "      <td>2020-12-31</td>\n",
       "      <td>NaN</td>\n",
       "      <td>NEW CENTY FINL CORP MD COM</td>\n",
       "      <td>0.000000</td>\n",
       "      <td>0.000000e+00</td>\n",
       "    </tr>\n",
       "    <tr>\n",
       "      <th>3227</th>\n",
       "      <td>Holdings may include collateral held by the fu...</td>\n",
       "      <td>NaN</td>\n",
       "      <td>NaN</td>\n",
       "      <td>NaN</td>\n",
       "      <td>NaN</td>\n",
       "    </tr>\n",
       "    <tr>\n",
       "      <th>3228</th>\n",
       "      <td>Any fund holdings shown should not be consider...</td>\n",
       "      <td>NaN</td>\n",
       "      <td>NaN</td>\n",
       "      <td>NaN</td>\n",
       "      <td>NaN</td>\n",
       "    </tr>\n",
       "    <tr>\n",
       "      <th>3229</th>\n",
       "      <td>Charles Schwab Investment Management believes ...</td>\n",
       "      <td>NaN</td>\n",
       "      <td>NaN</td>\n",
       "      <td>NaN</td>\n",
       "      <td>NaN</td>\n",
       "    </tr>\n",
       "  </tbody>\n",
       "</table>\n",
       "<p>3230 rows × 5 columns</p>\n",
       "</div>"
      ],
      "text/plain": [
       "                                             As-Of-Date Symbol  \\\n",
       "0                                            2020-12-31   AAPL   \n",
       "1                                            2020-12-31   MSFT   \n",
       "2                                            2020-12-31   AMZN   \n",
       "3                                            2020-12-31     FB   \n",
       "4                                            2020-12-31   TSLA   \n",
       "...                                                 ...    ...   \n",
       "3225                                         2020-12-31    NaN   \n",
       "3226                                         2020-12-31    NaN   \n",
       "3227  Holdings may include collateral held by the fu...    NaN   \n",
       "3228  Any fund holdings shown should not be consider...    NaN   \n",
       "3229  Charles Schwab Investment Management believes ...    NaN   \n",
       "\n",
       "                                              Name  % of Assets  Market Value  \n",
       "0                 APPLE INC COMMON STOCK USD.00001     5.421952  7.519257e+08  \n",
       "1         MICROSOFT CORP COMMON STOCK USD.00000625     4.299386  5.962464e+08  \n",
       "2               AMAZON.COM INC COMMON STOCK USD.01     3.551460  4.925227e+08  \n",
       "3     FACEBOOK INC CLASS A COMMON STOCK USD.000006     1.678802  2.328192e+08  \n",
       "4                   TESLA INC COMMON STOCK USD.001     1.368412  1.897737e+08  \n",
       "...                                            ...          ...           ...  \n",
       "3225             CONTRA RESTORBIO INC COMMON STOCK     0.000000  0.000000e+00  \n",
       "3226                    NEW CENTY FINL CORP MD COM     0.000000  0.000000e+00  \n",
       "3227                                           NaN          NaN           NaN  \n",
       "3228                                           NaN          NaN           NaN  \n",
       "3229                                           NaN          NaN           NaN  \n",
       "\n",
       "[3230 rows x 5 columns]"
      ]
     },
     "execution_count": 59,
     "metadata": {},
     "output_type": "execute_result"
    }
   ],
   "source": [
    "table = pd.read_csv(\"SWTSX_FundHoldings_2020-12-31.csv\")\n",
    "table"
   ]
  },
  {
   "cell_type": "code",
   "execution_count": 17,
   "metadata": {},
   "outputs": [
    {
     "ename": "SyntaxError",
     "evalue": "EOL while scanning string literal (<ipython-input-17-7c3da3f81a68>, line 5)",
     "output_type": "error",
     "traceback": [
      "\u001b[0;36m  File \u001b[0;32m\"<ipython-input-17-7c3da3f81a68>\"\u001b[0;36m, line \u001b[0;32m5\u001b[0m\n\u001b[0;31m    var + index + \" = input('\" + ticker + \"', type=input.symbol)\u001b[0m\n\u001b[0m                                                                ^\u001b[0m\n\u001b[0;31mSyntaxError\u001b[0m\u001b[0;31m:\u001b[0m EOL while scanning string literal\n"
     ]
    }
   ],
   "source": [
    "varName = \"s\"\n",
    "\n",
    "text = []\n",
    "\n",
    "var + index + \" = input('\" + ticker + \"', type=input.symbol)\n",
    "if __name__ == \"__main__\":\n",
    "    for index, row in df.iterrows():\n",
    "        text.append(str(f'{var} + {index} + \" = input('\\\" + ticker + \\\"', type=input.symbol)\"))\n",
    "        text.append((\"\\n   \"))\n",
    "\n",
    "    with open('output.txt', 'w') as f:\n",
    "        for t in text:\n",
    "            f.write(t + '\\n')\n",
    "            if write: print(t)\n",
    "        print(' wrote output.txt')"
   ]
  },
  {
   "cell_type": "code",
   "execution_count": 18,
   "metadata": {},
   "outputs": [
    {
     "ename": "SyntaxError",
     "evalue": "unexpected character after line continuation character (<ipython-input-18-6f4b2c6a53cb>, line 1)",
     "output_type": "error",
     "traceback": [
      "\u001b[0;36m  File \u001b[0;32m\"<ipython-input-18-6f4b2c6a53cb>\"\u001b[0;36m, line \u001b[0;32m1\u001b[0m\n\u001b[0;31m    str(f'{var} + {index} + \" = input('\\\" + ticker + \\\"', type=input.symbol)\")\u001b[0m\n\u001b[0m                                                                              ^\u001b[0m\n\u001b[0;31mSyntaxError\u001b[0m\u001b[0;31m:\u001b[0m unexpected character after line continuation character\n"
     ]
    }
   ],
   "source": [
    "str(f'{var} + {index} + \" = input('\\\" + ticker + \\\"', type=input.symbol)\")"
   ]
  },
  {
   "cell_type": "code",
   "execution_count": 27,
   "metadata": {},
   "outputs": [
    {
     "name": "stdout",
     "output_type": "stream",
     "text": [
      "s1 = input('tx', type=input.symbol)\n"
     ]
    }
   ],
   "source": [
    "var = \"s\"\n",
    "index = 1\n",
    "ticker = \"tx\"\n",
    "print(str(f'{var}{index} = input(\\'{ticker}\\', type=input.symbol)'))"
   ]
  },
  {
   "cell_type": "code",
   "execution_count": 20,
   "metadata": {},
   "outputs": [],
   "source": [
    "index = 1"
   ]
  },
  {
   "cell_type": "code",
   "execution_count": 29,
   "metadata": {},
   "outputs": [
    {
     "ename": "SyntaxError",
     "evalue": "invalid syntax (<ipython-input-29-734762f40ade>, line 1)",
     "output_type": "error",
     "traceback": [
      "\u001b[0;36m  File \u001b[0;32m\"<ipython-input-29-734762f40ade>\"\u001b[0;36m, line \u001b[0;32m1\u001b[0m\n\u001b[0;31m    str(f'{var}{row} = input(\\'{row['Symbol']}\\', type=input.symbol)')\u001b[0m\n\u001b[0m                                          ^\u001b[0m\n\u001b[0;31mSyntaxError\u001b[0m\u001b[0;31m:\u001b[0m invalid syntax\n"
     ]
    }
   ],
   "source": [
    "str(f'{var}{row} = input(\\'{row['Symbol']}\\', type=input.symbol)')"
   ]
  },
  {
   "cell_type": "code",
   "execution_count": 30,
   "metadata": {},
   "outputs": [],
   "source": [
    "text = []"
   ]
  },
  {
   "cell_type": "code",
   "execution_count": 47,
   "metadata": {},
   "outputs": [],
   "source": [
    "for index, row in table.iterrows():\n",
    "    ticker = row['Symbol']\n",
    "    text.append(str(f'{var}{index} = input(\\'{ticker}\\', type=input.symbol)'))\n",
    "    text.append((\"\\n   \"))\n"
   ]
  },
  {
   "cell_type": "code",
   "execution_count": 51,
   "metadata": {},
   "outputs": [
    {
     "name": "stdout",
     "output_type": "stream",
     "text": [
      "s0 = input('AAPL', type=input.symbol)\n"
     ]
    }
   ],
   "source": [
    "print(text[0])"
   ]
  },
  {
   "cell_type": "code",
   "execution_count": 42,
   "metadata": {},
   "outputs": [
    {
     "name": "stdout",
     "output_type": "stream",
     "text": [
      "yes\n"
     ]
    }
   ],
   "source": [
    "if True:\n",
    "    print(\"yes\")"
   ]
  },
  {
   "cell_type": "code",
   "execution_count": 58,
   "metadata": {},
   "outputs": [
    {
     "name": "stdout",
     "output_type": "stream",
     "text": [
      "False\n"
     ]
    }
   ],
   "source": [
    "t1 = \"nan\"\n",
    "if table['Symbol'].values[3229] == \"nan\":\n",
    "    print(\"True\")\n",
    "else:\n",
    "    print(\"False\")"
   ]
  },
  {
   "cell_type": "code",
   "execution_count": 56,
   "metadata": {},
   "outputs": [
    {
     "name": "stdout",
     "output_type": "stream",
     "text": [
      "nan\n"
     ]
    }
   ],
   "source": [
    "print(table['Symbol'].values[3229])"
   ]
  },
  {
   "cell_type": "code",
   "execution_count": null,
   "metadata": {},
   "outputs": [],
   "source": []
  }
 ],
 "metadata": {
  "kernelspec": {
   "display_name": "Python 3",
   "language": "python",
   "name": "python3"
  },
  "language_info": {
   "codemirror_mode": {
    "name": "ipython",
    "version": 3
   },
   "file_extension": ".py",
   "mimetype": "text/x-python",
   "name": "python",
   "nbconvert_exporter": "python",
   "pygments_lexer": "ipython3",
   "version": "3.7.6"
  }
 },
 "nbformat": 4,
 "nbformat_minor": 4
}
